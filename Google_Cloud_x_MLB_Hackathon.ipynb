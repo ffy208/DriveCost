{
  "nbformat": 4,
  "nbformat_minor": 0,
  "metadata": {
    "colab": {
      "provenance": [],
      "mount_file_id": "1gNEe5JcClOLf0T497WZ4pu5zeCLa5c3D",
      "authorship_tag": "ABX9TyMAjjizOMLzE9NBQL8OL4Ss",
      "include_colab_link": true
    },
    "kernelspec": {
      "name": "python3",
      "display_name": "Python 3"
    },
    "language_info": {
      "name": "python"
    }
  },
  "cells": [
    {
      "cell_type": "markdown",
      "metadata": {
        "id": "view-in-github",
        "colab_type": "text"
      },
      "source": [
        "<a href=\"https://colab.research.google.com/github/ffy208/DriveCost/blob/main/Google_Cloud_x_MLB_Hackathon.ipynb\" target=\"_parent\"><img src=\"https://colab.research.google.com/assets/colab-badge.svg\" alt=\"Open In Colab\"/></a>"
      ]
    },
    {
      "cell_type": "code",
      "source": [
        "import requests\n",
        "import pandas as pd\n",
        "import numpy as np\n",
        "from sklearn.model_selection import train_test_split\n",
        "from sklearn.preprocessing import StandardScaler\n",
        "from sklearn.ensemble import RandomForestRegressor\n",
        "from sklearn.metrics import mean_squared_error, r2_score\n",
        "import matplotlib.pyplot as plt\n",
        "import vertexai\n",
        "from google.cloud import aiplatform\n",
        "from google.cloud.aiplatform import gapic as aiplatform_gapic\n",
        "from google.cloud import storage\n",
        "import json\n",
        "import matplotlib.ticker as ticker\n",
        "from sklearn.decomposition import PCA\n",
        "from sklearn.manifold import TSNE\n",
        "import seaborn as sns"
      ],
      "metadata": {
        "id": "XV3fVLaTFFri"
      },
      "execution_count": null,
      "outputs": []
    },
    {
      "cell_type": "markdown",
      "source": [
        "# EDA"
      ],
      "metadata": {
        "id": "nBhmj9PfRIM_"
      }
    },
    {
      "cell_type": "code",
      "execution_count": null,
      "metadata": {
        "id": "jWHtyncpthjM"
      },
      "outputs": [],
      "source": [
        "url = \"https://statsapi.mlb.com/api/v1/teams/119/roster?season=2024\"\n",
        "response = requests.get(url)\n",
        "data = response.json()\n",
        "\n",
        "for player in data[\"roster\"][:5]:\n",
        "    print(player[\"person\"][\"fullName\"], \"-\", player[\"position\"][\"abbreviation\"])\n"
      ]
    },
    {
      "cell_type": "code",
      "source": [
        "player_url = \"https://statsapi.mlb.com/api/v1/people/660271?season=2024\"\n",
        "player_data = requests.get(player_url).json()\n",
        "print(json.dumps(player_data, indent=2))\n"
      ],
      "metadata": {
        "id": "00jf3oLJvcpu"
      },
      "execution_count": null,
      "outputs": []
    },
    {
      "cell_type": "code",
      "source": [
        "game_url = \"https://statsapi.mlb.com/api/v1.1/game/716463/feed/live\"\n",
        "game_data = requests.get(game_url).json()\n",
        "print(json.dumps(game_data, indent=2))\n"
      ],
      "metadata": {
        "id": "rWGmMrSmvug4"
      },
      "execution_count": null,
      "outputs": []
    },
    {
      "cell_type": "code",
      "source": [
        "url = \"https://storage.googleapis.com/gcp-mlb-hackathon-2025/datasets/2024-mlb-homeruns.csv\"\n",
        "df = pd.read_csv(url)\n",
        "\n",
        "print(df.head())\n",
        "print(df.info())\n"
      ],
      "metadata": {
        "id": "5lFGEY4Rvwap"
      },
      "execution_count": null,
      "outputs": []
    },
    {
      "cell_type": "code",
      "source": [
        "print(df.head())\n",
        "print(df.info())\n",
        "print(df.describe())\n"
      ],
      "metadata": {
        "id": "WP2PlJwGv4L3"
      },
      "execution_count": null,
      "outputs": []
    },
    {
      "cell_type": "code",
      "source": [
        "print(f\"number of payers: {df['play_id'].nunique()}\")\n"
      ],
      "metadata": {
        "id": "iCSJtnePv8u7"
      },
      "execution_count": null,
      "outputs": []
    },
    {
      "cell_type": "code",
      "source": [
        "print(df.columns)"
      ],
      "metadata": {
        "id": "Nss6nGzgwS2A"
      },
      "execution_count": null,
      "outputs": []
    },
    {
      "cell_type": "code",
      "source": [
        "plt.figure(figsize=(8,5))\n",
        "df[\"ExitVelocity\"].hist(bins=50)\n",
        "plt.xlabel(\"Exit Velocity (mph)\")\n",
        "plt.ylabel(\"Count\")\n",
        "plt.title(\"Exit Velocity Distribution\")\n",
        "plt.show()\n"
      ],
      "metadata": {
        "id": "iHI-5nDpytSG"
      },
      "execution_count": null,
      "outputs": []
    },
    {
      "cell_type": "code",
      "source": [
        "url = \"https://statsapi.mlb.com/api/v1/teams/119/roster?season=2024\"\n",
        "response = requests.get(url).json()\n",
        "\n",
        "for player in response[\"roster\"]:\n",
        "    print(f\"Player ID: {player['person']['id']} - {player['person']['fullName']}\")\n"
      ],
      "metadata": {
        "id": "RxsXOBYo221Z"
      },
      "execution_count": null,
      "outputs": []
    },
    {
      "cell_type": "code",
      "source": [
        "player_id = 660271\n",
        "url = f\"https://statsapi.mlb.com/api/v1/people/{player_id}/stats?stats=season&season=2023\"\n",
        "\n",
        "response = requests.get(url).json()\n",
        "\n",
        "print(response)\n"
      ],
      "metadata": {
        "id": "_saxZTe-3gAl"
      },
      "execution_count": null,
      "outputs": []
    },
    {
      "cell_type": "code",
      "source": [
        "player_id = 660271  # Shohei Ohtani\n",
        "url = f\"https://statsapi.mlb.com/api/v1/people/{player_id}/stats?stats=yearByYear&group=hitting\"\n",
        "\n",
        "response = requests.get(url).json()\n",
        "print(response)\n"
      ],
      "metadata": {
        "id": "IzMr8B3E33tj"
      },
      "execution_count": null,
      "outputs": []
    },
    {
      "cell_type": "code",
      "source": [
        "url = \"https://statsapi.mlb.com/api/v1/people?season=2024&sportId=1\"\n",
        "response = requests.get(url).json()\n",
        "\n",
        "print(response)\n"
      ],
      "metadata": {
        "id": "fwSaBZm54aQF"
      },
      "execution_count": null,
      "outputs": []
    },
    {
      "cell_type": "code",
      "source": [
        "url = \"https://statsapi.mlb.com/api/v1/teams?season=2024&sportId=1&hydrate=roster\"\n",
        "response = requests.get(url).json()\n",
        "\n",
        "print(response)\n"
      ],
      "metadata": {
        "id": "MhMAsdCT4poz"
      },
      "execution_count": null,
      "outputs": []
    },
    {
      "cell_type": "code",
      "source": [
        "team_ids = [team[\"id\"] for team in response[\"teams\"]]\n",
        "print(team_ids)\n"
      ],
      "metadata": {
        "id": "4oIbmwky40QM"
      },
      "execution_count": null,
      "outputs": []
    },
    {
      "cell_type": "code",
      "source": [
        "player_ids = []\n",
        "\n",
        "for team_id in team_ids:\n",
        "    url = f\"https://statsapi.mlb.com/api/v1/teams/{team_id}/roster?season=2024\"\n",
        "    response = requests.get(url).json()\n",
        "\n",
        "\n",
        "    for player in response[\"roster\"]:\n",
        "        player_ids.append(player[\"person\"][\"id\"])\n",
        "\n",
        "print(player_ids[:10])"
      ],
      "metadata": {
        "id": "8iGFh8H44-kT"
      },
      "execution_count": null,
      "outputs": []
    },
    {
      "cell_type": "code",
      "source": [
        "player_id = player_ids[0]\n",
        "url = f\"https://statsapi.mlb.com/api/v1/people/{player_id}/stats?stats=yearByYear&season=2023\"\n",
        "\n",
        "response = requests.get(url).json()\n",
        "print(response)\n"
      ],
      "metadata": {
        "id": "cJt8rYe25CaP"
      },
      "execution_count": null,
      "outputs": []
    },
    {
      "cell_type": "code",
      "source": [
        "teams_url = \"https://statsapi.mlb.com/api/v1/teams?sportId=1&season=2024\"\n",
        "teams_response = requests.get(teams_url).json()\n",
        "\n",
        "team_ids = [team[\"id\"] for team in teams_response[\"teams\"]]\n",
        "print(f\"Total Teams: {len(team_ids)}\")\n",
        "print(\"First 5 teams:\", team_ids[:5])\n"
      ],
      "metadata": {
        "id": "danWjC8W5F88"
      },
      "execution_count": null,
      "outputs": []
    },
    {
      "cell_type": "code",
      "source": [
        "player_ids = []\n",
        "\n",
        "for team_id in team_ids:\n",
        "    roster_url = f\"https://statsapi.mlb.com/api/v1/teams/{team_id}/roster?season=2024\"\n",
        "    roster_response = requests.get(roster_url).json()\n",
        "\n",
        "    for player in roster_response.get(\"roster\", []):\n",
        "        player_ids.append(player[\"person\"][\"id\"])\n",
        "\n",
        "print(f\"Total Players: {len(player_ids)}\")\n",
        "print(\"First 5 players:\", player_ids[:5])\n"
      ],
      "metadata": {
        "id": "l4zdodgI5NiG"
      },
      "execution_count": null,
      "outputs": []
    },
    {
      "cell_type": "code",
      "source": [
        "player_stats = {}\n",
        "\n",
        "for player_id in player_ids[:10]\n",
        "    stats_url = f\"https://statsapi.mlb.com/api/v1/people/{player_id}/stats?stats=yearByYear&season=2023\"\n",
        "    stats_response = requests.get(stats_url).json()\n",
        "    player_stats[player_id] = stats_response.get(\"stats\", [])\n",
        "\n",
        "print(\"Sample player stats:\", list(player_stats.items())[:2])\n"
      ],
      "metadata": {
        "id": "qDOjudCP5PtQ"
      },
      "execution_count": null,
      "outputs": []
    },
    {
      "cell_type": "code",
      "source": [
        "parsed_stats = {}\n",
        "\n",
        "for player_id, stats in player_stats.items():\n",
        "    for stat_group in stats:\n",
        "        for split in stat_group.get(\"splits\", []):\n",
        "            if split.get(\"season\") == \"2023\":\n",
        "                parsed_stats[player_id] = split[\"stat\"]\n",
        "\n",
        "\n",
        "print(json.dumps(list(parsed_stats.items())[:2], indent=4))\n"
      ],
      "metadata": {
        "id": "Jul1NMVK5TD1"
      },
      "execution_count": null,
      "outputs": []
    },
    {
      "cell_type": "code",
      "source": [
        "df = pd.DataFrame.from_dict(parsed_stats, orient=\"index\")\n",
        "\n",
        "display(df)"
      ],
      "metadata": {
        "id": "-skmvqsg5hTi"
      },
      "execution_count": null,
      "outputs": []
    },
    {
      "cell_type": "code",
      "source": [
        "print(df_sorted[\"era\"].isna().sum())\n"
      ],
      "metadata": {
        "id": "EMcd4Jfv5jWH"
      },
      "execution_count": null,
      "outputs": []
    },
    {
      "cell_type": "code",
      "source": [
        "df_sorted = df_sorted.dropna(subset=[\"era\"])"
      ],
      "metadata": {
        "id": "132tZOE25vJ7"
      },
      "execution_count": null,
      "outputs": []
    },
    {
      "cell_type": "code",
      "source": [
        "df_sorted[\"era\"] = pd.to_numeric(df_sorted[\"era\"], errors=\"coerce\")"
      ],
      "metadata": {
        "id": "tzKUPqT45-K_"
      },
      "execution_count": null,
      "outputs": []
    },
    {
      "cell_type": "code",
      "source": [
        "plt.figure(figsize=(10,5))\n",
        "plt.barh(df_sorted.index.astype(str), df_sorted[\"era\"])\n",
        "plt.xlabel(\"ERA\")\n",
        "plt.ylabel(\"Player ID\")\n",
        "plt.show()\n"
      ],
      "metadata": {
        "id": "SwQ9UBd55_zE"
      },
      "execution_count": null,
      "outputs": []
    },
    {
      "cell_type": "code",
      "source": [
        "\n",
        "\n",
        "plt.figure(figsize=(10, 5))\n",
        "plt.barh(df_sorted.index.astype(str), df_sorted[\"era\"])\n",
        "plt.xlabel(\"ERA\")\n",
        "plt.ylabel(\"Player ID\")\n",
        "plt.gca().xaxis.set_major_locator(ticker.MultipleLocator(0.5))\n",
        "plt.show()\n"
      ],
      "metadata": {
        "id": "u1e5m3iL6J9M"
      },
      "execution_count": null,
      "outputs": []
    },
    {
      "cell_type": "code",
      "source": [
        "\n",
        "\n",
        "\n",
        "def get_all_players():\n",
        "    url = \"https://statsapi.mlb.com/api/v1/sports/1/players\"\n",
        "    response = requests.get(url).json()\n",
        "\n",
        "\n",
        "    player_ids = [player[\"id\"] for player in response[\"people\"]]\n",
        "    return player_ids\n",
        "\n",
        "def get_player_stats(player_id, season):\n",
        "    url = f\"https://statsapi.mlb.com/api/v1/people/{player_id}/stats?stats=yearByYear&season={season}\"\n",
        "    response = requests.get(url).json()\n",
        "\n",
        "\n",
        "    stats = response.get(\"stats\", [])\n",
        "    if stats:\n",
        "        for split in stats[0].get(\"splits\", []):\n",
        "            if split[\"season\"] == str(season):\n",
        "                return split[\"stat\"]\n",
        "    return None\n",
        "\n",
        "def get_historical_data(player_ids, seasons):\n",
        "    all_data = []\n",
        "    for player_id in player_ids[:50]:\n",
        "        for season in seasons:\n",
        "            stats = get_player_stats(player_id, season)\n",
        "            if stats:\n",
        "                stats[\"player_id\"] = player_id\n",
        "                stats[\"season\"] = season\n",
        "                all_data.append(stats)\n",
        "\n",
        "    return pd.DataFrame(all_data)\n",
        "\n",
        "player_ids = get_all_players()\n",
        "seasons = list(range(2015, 2024))\n",
        "df = get_historical_data(player_ids, seasons)\n",
        "\n",
        "df.to_csv(\"mlb_historical_data.csv\", index=False)\n",
        "\n",
        "print(df.head())\n"
      ],
      "metadata": {
        "id": "5Cs6fDx_6L3S"
      },
      "execution_count": null,
      "outputs": []
    },
    {
      "cell_type": "code",
      "source": [
        "print(df.columns)"
      ],
      "metadata": {
        "id": "rOZeCpHg6myC"
      },
      "execution_count": null,
      "outputs": []
    },
    {
      "cell_type": "code",
      "source": [
        "print(\"Columns in df:\", df.columns)"
      ],
      "metadata": {
        "id": "0A8h2yOW8uu8"
      },
      "execution_count": null,
      "outputs": []
    },
    {
      "cell_type": "code",
      "source": [
        "df.info()"
      ],
      "metadata": {
        "id": "KdRe2gHH9UZw"
      },
      "execution_count": null,
      "outputs": []
    },
    {
      "cell_type": "code",
      "source": [
        "\n",
        "features = [\"gamesPlayed\", \"atBats\", \"runs\", \"hits\", \"homeRuns\", \"strikeOuts\",\n",
        "            \"baseOnBalls\", \"avg\", \"obp\", \"slg\", \"ops\", \"stolenBases\", \"rbi\", \"iso\", \"bb_k_ratio\"]\n",
        "\n",
        "df = df[[\"player_id\", \"season\"] + features]\n",
        "\n",
        "\n",
        "df = df.fillna(0)\n",
        "df = df.replace({\"\": 0})\n",
        "df[features] = df[features].astype(float)\n",
        "print(df.info())\n"
      ],
      "metadata": {
        "id": "J1NUts3C81Sq"
      },
      "execution_count": null,
      "outputs": []
    },
    {
      "cell_type": "code",
      "source": [
        "y = df[\"ops\"]\n",
        "X = df[features]\n",
        "\n",
        "\n",
        "X_train, X_test, y_train, y_test = train_test_split(X, y, test_size=0.2, random_state=42)\n",
        "\n",
        "\n",
        "scaler = StandardScaler()\n",
        "X_train = scaler.fit_transform(X_train)\n",
        "X_test = scaler.transform(X_test)\n",
        "\n",
        "\n",
        "model = RandomForestRegressor(n_estimators=100, random_state=42)\n",
        "model.fit(X_train, y_train)\n",
        "\n",
        "\n",
        "y_pred = model.predict(X_test)\n",
        "\n",
        "\n",
        "mse = mean_squared_error(y_test, y_pred)\n",
        "r2 = r2_score(y_test, y_pred)\n",
        "\n",
        "print(f\"Mean Squared Error: {mse:.4f}\")\n",
        "print(f\"R² Score: {r2:.4f}\")\n"
      ],
      "metadata": {
        "id": "-OgkNN-E9Hoc"
      },
      "execution_count": null,
      "outputs": []
    },
    {
      "cell_type": "code",
      "source": [
        "\n",
        "df_2024 = df.copy()\n",
        "df_2024[\"season\"] = 2024\n",
        "\n",
        "\n",
        "X_2024 = scaler.transform(df_2024[features])\n",
        "\n",
        "\n",
        "df_2024[\"predicted_ops\"] = model.predict(X_2024)\n",
        "\n",
        "\n",
        "print(df_2024[[\"player_id\", \"season\", \"ops\", \"predicted_ops\"]].head(10))\n"
      ],
      "metadata": {
        "id": "YKdXu_Gl9r3Q"
      },
      "execution_count": null,
      "outputs": []
    },
    {
      "cell_type": "code",
      "source": [
        "def get_player_names(player_ids):\n",
        "    player_name_dict = {}\n",
        "\n",
        "    for player_id in player_ids:\n",
        "        url = f\"https://statsapi.mlb.com/api/v1/people/{player_id}\"\n",
        "        response = requests.get(url)\n",
        "        data = response.json()\n",
        "\n",
        "        if \"people\" in data and data[\"people\"]:\n",
        "            player_name_dict[player_id] = data[\"people\"][0][\"fullName\"]\n",
        "\n",
        "    return player_name_dict\n",
        "\n",
        "\n",
        "player_ids = df[\"player_id\"].unique()\n",
        "player_names = get_player_names(player_ids)\n"
      ],
      "metadata": {
        "id": "ODZeyaDd936y"
      },
      "execution_count": null,
      "outputs": []
    },
    {
      "cell_type": "code",
      "source": [
        "print(df.columns)\n"
      ],
      "metadata": {
        "id": "x4BKdZpf-UxU"
      },
      "execution_count": null,
      "outputs": []
    },
    {
      "cell_type": "code",
      "source": [
        "print(df_2024.head())\n"
      ],
      "metadata": {
        "id": "HTpJShvs-n9a"
      },
      "execution_count": null,
      "outputs": []
    },
    {
      "cell_type": "code",
      "source": [
        "print(df_2024[[\"player_name\", \"player_id\", \"season\", \"ops\", \"predicted_ops\"]].head(10))\n"
      ],
      "metadata": {
        "id": "JttShRX9-qm6"
      },
      "execution_count": null,
      "outputs": []
    },
    {
      "cell_type": "code",
      "source": [
        "ALL_PLAYERS_API = \"https://statsapi.mlb.com/api/v1/sports/1/players\"\n",
        "\n",
        "response = requests.get(ALL_PLAYERS_API).json()\n",
        "player_ids = [player[\"id\"] for player in response.get(\"people\", [])]\n",
        "\n",
        "all_player_stats = []"
      ],
      "metadata": {
        "id": "CBwr7FzuGUZd"
      },
      "execution_count": null,
      "outputs": []
    },
    {
      "cell_type": "code",
      "source": [
        "print(len(player_ids))\n",
        "print(player_ids[:10])"
      ],
      "metadata": {
        "id": "4WMCeuP9Jk2l"
      },
      "execution_count": null,
      "outputs": []
    },
    {
      "cell_type": "code",
      "source": [
        "for player_id in player_ids:\n",
        "    stats_response = requests.get(PLAYER_STATS_API.format(player_id=player_id)).json()\n",
        "    if \"stats\" in stats_response:\n",
        "        for stat_group in stats_response[\"stats\"]:\n",
        "            for stat in stat_group.get(\"splits\", []):\n",
        "                if stat[\"season\"] == \"2023\":\n",
        "                    player_data = {\n",
        "                        \"player_id\": player_id,\n",
        "                        \"player_name\": stat[\"player\"][\"fullName\"],\n",
        "                        \"season\": 2023,\n",
        "                        \"gamesPlayed\": stat[\"stat\"].get(\"gamesPlayed\", np.nan),\n",
        "                        \"atBats\": stat[\"stat\"].get(\"atBats\", np.nan),\n",
        "                        \"runs\": stat[\"stat\"].get(\"runs\", np.nan),\n",
        "                        \"hits\": stat[\"stat\"].get(\"hits\", np.nan),\n",
        "                        \"homeRuns\": stat[\"stat\"].get(\"homeRuns\", np.nan),\n",
        "                        \"strikeOuts\": stat[\"stat\"].get(\"strikeOuts\", np.nan),\n",
        "                        \"baseOnBalls\": stat[\"stat\"].get(\"baseOnBalls\", np.nan),\n",
        "                        \"avg\": stat[\"stat\"].get(\"avg\", np.nan),\n",
        "                        \"obp\": stat[\"stat\"].get(\"obp\", np.nan),\n",
        "                        \"slg\": stat[\"stat\"].get(\"slg\", np.nan),\n",
        "                        \"ops\": stat[\"stat\"].get(\"ops\", np.nan),\n",
        "                        \"stolenBases\": stat[\"stat\"].get(\"stolenBases\", np.nan),\n",
        "                        \"rbi\": stat[\"stat\"].get(\"rbi\", np.nan)\n",
        "                    }\n",
        "                    all_player_stats.append(player_data)\n",
        "\n",
        "\n",
        "df = pd.DataFrame(all_player_stats)\n"
      ],
      "metadata": {
        "id": "tbxv3mpoJeZk"
      },
      "execution_count": null,
      "outputs": []
    },
    {
      "cell_type": "code",
      "source": [
        "df.to_parquet(\"mlb_2023_data.parquet\", index=False)"
      ],
      "metadata": {
        "id": "fF57nKTnNYa2"
      },
      "execution_count": null,
      "outputs": []
    },
    {
      "cell_type": "code",
      "source": [
        "\n",
        "df_2023 = pd.read_parquet(\"mlb_2023_data.parquet\")\n",
        "\n",
        "\n",
        "seasons = list(range(2015, 2023))\n",
        "all_player_stats = []\n",
        "\n",
        "for season in seasons:\n",
        "    for player_id in player_ids:\n",
        "        stats_response = requests.get(PLAYER_STATS_API.format(player_id=player_id)).json()\n",
        "        if \"stats\" in stats_response:\n",
        "            for stat_group in stats_response[\"stats\"]:\n",
        "                for stat in stat_group.get(\"splits\", []):\n",
        "                    if int(stat[\"season\"]) == season:\n",
        "                        player_data = {\n",
        "                            \"player_id\": player_id,\n",
        "                            \"player_name\": stat[\"player\"][\"fullName\"],\n",
        "                            \"season\": season,\n",
        "                            \"gamesPlayed\": stat[\"stat\"].get(\"gamesPlayed\", np.nan),\n",
        "                            \"ops\": stat[\"stat\"].get(\"ops\", np.nan),\n",
        "                        }\n",
        "                        all_player_stats.append(player_data)\n",
        "\n",
        "df_other_seasons = pd.DataFrame(all_player_stats)\n",
        "\n",
        "\n",
        "df_all = pd.concat([df_2023, df_other_seasons], ignore_index=True)\n",
        "\n",
        "df_all.to_parquet(\"mlb_all_seasons.parquet\", index=False)\n"
      ],
      "metadata": {
        "id": "ArgE_tMSRjir"
      },
      "execution_count": null,
      "outputs": []
    },
    {
      "cell_type": "code",
      "source": [
        "df_all.info()"
      ],
      "metadata": {
        "id": "m8ojxkGrRk0a"
      },
      "execution_count": null,
      "outputs": []
    },
    {
      "cell_type": "code",
      "source": [
        "\n",
        "df = pd.read_parquet(\"mlb_all_seasons.parquet\")\n",
        "\n",
        "float_cols = [\"avg\", \"obp\", \"slg\", \"ops\"]\n",
        "for col in float_cols:\n",
        "    df[col] = pd.to_numeric(df[col], errors=\"coerce\")\n",
        "\n",
        "\n",
        "df.fillna(0, inplace=True)\n",
        "\n",
        "features = [\"gamesPlayed\", \"atBats\", \"runs\", \"hits\", \"homeRuns\", \"strikeOuts\", \"baseOnBalls\", \"obp\", \"slg\"]\n",
        "target = \"ops\""
      ],
      "metadata": {
        "id": "Rptdo5n9jOlu"
      },
      "execution_count": null,
      "outputs": []
    },
    {
      "cell_type": "code",
      "source": [
        "\n",
        "X = df[features]\n",
        "y = df[target]\n",
        "X_train, X_test, y_train, y_test = train_test_split(X, y, test_size=0.2, random_state=42)"
      ],
      "metadata": {
        "id": "932H89R4oA1K"
      },
      "execution_count": null,
      "outputs": []
    },
    {
      "cell_type": "code",
      "source": [
        "\n",
        "scaler = StandardScaler()\n",
        "X_train = scaler.fit_transform(X_train)\n",
        "X_test = scaler.transform(X_test)\n"
      ],
      "metadata": {
        "id": "qrZ2G5kToFe7"
      },
      "execution_count": null,
      "outputs": []
    },
    {
      "cell_type": "code",
      "source": [
        "\n",
        "model = RandomForestRegressor(n_estimators=100, random_state=42)\n",
        "model.fit(X_train, y_train)"
      ],
      "metadata": {
        "id": "NNmi7_eVoH9c"
      },
      "execution_count": null,
      "outputs": []
    },
    {
      "cell_type": "code",
      "source": [
        "\n",
        "y_pred = model.predict(X_test)\n",
        "mse = mean_squared_error(y_test, y_pred)\n",
        "r2 = r2_score(y_test, y_pred)\n",
        "print(f\"MSE: {mse}\")\n",
        "print(f\"R²: {r2}\")"
      ],
      "metadata": {
        "id": "G2fniUsnoJaK"
      },
      "execution_count": null,
      "outputs": []
    },
    {
      "cell_type": "code",
      "source": [
        "\n",
        "df_2024 = df[df[\"season\"] == 2023].copy()\n",
        "X_2024 = scaler.transform(df_2024[features])\n",
        "df_2024[\"predicted_ops\"] = model.predict(X_2024)"
      ],
      "metadata": {
        "id": "_bBLPQYgoL_2"
      },
      "execution_count": null,
      "outputs": []
    },
    {
      "cell_type": "code",
      "source": [
        "print(df_2024[[\"player_name\", \"player_id\", \"season\", \"ops\", \"predicted_ops\"]].head(10))"
      ],
      "metadata": {
        "id": "s5OrRIA6oNfL"
      },
      "execution_count": null,
      "outputs": []
    },
    {
      "cell_type": "code",
      "source": [
        "BASE_URL = \"https://statsapi.mlb.com/api/v1\"\n",
        "\n",
        "def get_all_players():\n",
        "    url = f\"{BASE_URL}/sports/1/players\"\n",
        "    response = requests.get(url)\n",
        "    data = response.json()\n",
        "    players = [\n",
        "        {\"player_id\": p[\"id\"], \"player_name\": p[\"fullName\"]}\n",
        "        for p in data[\"people\"]\n",
        "    ]\n",
        "\n",
        "    return pd.DataFrame(players)\n",
        "\n",
        "def get_player_stats(player_id, season=2024):\n",
        "    url = f\"{BASE_URL}/people/{player_id}/stats?stats=yearByYear&season={season}\"\n",
        "    response = requests.get(url)\n",
        "    data = response.json()\n",
        "\n",
        "    if \"stats\" in data and len(data[\"stats\"]) > 0:\n",
        "        stats = data[\"stats\"][0][\"splits\"]\n",
        "        if len(stats) > 0:\n",
        "            stat_data = stats[0][\"stat\"]\n",
        "            return {\n",
        "                \"player_id\": player_id,\n",
        "                \"season\": season,\n",
        "                \"gamesPlayed\": stat_data.get(\"gamesPlayed\", 0),\n",
        "                \"atBats\": stat_data.get(\"atBats\", 0),\n",
        "                \"runs\": stat_data.get(\"runs\", 0),\n",
        "                \"hits\": stat_data.get(\"hits\", 0),\n",
        "                \"homeRuns\": stat_data.get(\"homeRuns\", 0),\n",
        "                \"strikeOuts\": stat_data.get(\"strikeOuts\", 0),\n",
        "                \"baseOnBalls\": stat_data.get(\"baseOnBalls\", 0),\n",
        "                \"avg\": stat_data.get(\"avg\", 0),\n",
        "                \"obp\": stat_data.get(\"obp\", 0),\n",
        "                \"slg\": stat_data.get(\"slg\", 0),\n",
        "                \"ops\": stat_data.get(\"ops\", 0),\n",
        "                \"stolenBases\": stat_data.get(\"stolenBases\", 0),\n",
        "                \"rbi\": stat_data.get(\"rbi\", 0),\n",
        "            }\n",
        "    return None\n",
        "\n",
        "\n",
        "def get_2024_season_data():\n",
        "    all_players_df = get_all_players()\n",
        "\n",
        "    all_stats = []\n",
        "    for idx, row in all_players_df.iterrows():\n",
        "        player_id = row[\"player_id\"]\n",
        "        player_name = row[\"player_name\"]\n",
        "\n",
        "        player_stats = get_player_stats(player_id, 2024)\n",
        "        if player_stats:\n",
        "            player_stats[\"player_name\"] = player_name\n",
        "            all_stats.append(player_stats)\n",
        "\n",
        "        time.sleep(0.5)\n",
        "\n",
        "    df_2024 = pd.DataFrame(all_stats)\n",
        "    return df_2024\n",
        "\n",
        "df_2024 = get_2024_season_data()\n",
        "\n",
        "\n",
        "df_2024.to_parquet(\"mlb_2024_season.parquet\", index=False)\n",
        "\n",
        "\n",
        "print(df_2024.head(10))\n"
      ],
      "metadata": {
        "id": "liLifIOdoO_1"
      },
      "execution_count": null,
      "outputs": []
    },
    {
      "cell_type": "code",
      "source": [
        "df_2024.info()"
      ],
      "metadata": {
        "id": "78KQ9Bq1o78E"
      },
      "execution_count": null,
      "outputs": []
    },
    {
      "cell_type": "code",
      "source": [
        "\n",
        "df_all = pd.read_parquet(\"mlb_all_seasons.parquet\")\n",
        "\n",
        "\n",
        "df_all = pd.concat([df_all, df_2024], ignore_index=True)\n",
        "\n",
        "\n",
        "df_all.to_parquet(\"mlb_all_seasons_updated.parquet\", index=False)\n",
        "\n",
        "\n",
        "print(df_all.info())\n",
        "print(df_all.tail(10))\n"
      ],
      "metadata": {
        "id": "JzBMxzkXuAdA"
      },
      "execution_count": null,
      "outputs": []
    },
    {
      "cell_type": "markdown",
      "source": [
        "# Data cleansing"
      ],
      "metadata": {
        "id": "7bkG39mhx_7u"
      }
    },
    {
      "cell_type": "code",
      "source": [
        "df = pd.read_parquet(\"mlb_all_seasons_updated.parquet\")\n",
        "\n",
        "\n",
        "float_cols = [\"avg\", \"obp\", \"slg\", \"ops\"]\n",
        "for col in float_cols:\n",
        "    df[col] = pd.to_numeric(df[col], errors=\"coerce\")\n",
        "\n",
        "\n",
        "df.fillna(0, inplace=True)\n",
        "\n",
        "\n",
        "features = [\"gamesPlayed\", \"atBats\", \"runs\", \"hits\", \"homeRuns\",\n",
        "            \"strikeOuts\", \"baseOnBalls\", \"stolenBases\", \"rbi\"]\n",
        "target = \"ops\"\n",
        "\n",
        "df_train = df[df[\"season\"] < 2024]\n",
        "df_test = df[df[\"season\"] == 2024]\n",
        "\n",
        "\n",
        "X_train, X_val, y_train, y_val = train_test_split(\n",
        "    df_train[features], df_train[target], test_size=0.2, random_state=42\n",
        ")\n",
        "\n",
        "\n",
        "scaler = StandardScaler()\n",
        "X_train_scaled = scaler.fit_transform(X_train)\n",
        "X_val_scaled = scaler.transform(X_val)\n",
        "X_test_scaled = scaler.transform(df_test[features])\n"
      ],
      "metadata": {
        "id": "8GNgOSASyFhw"
      },
      "execution_count": null,
      "outputs": []
    },
    {
      "cell_type": "markdown",
      "source": [
        "# Training a local model"
      ],
      "metadata": {
        "id": "UMLQHWkDzMUF"
      }
    },
    {
      "cell_type": "code",
      "source": [
        "from sklearn.ensemble import RandomForestRegressor\n",
        "from sklearn.metrics import mean_squared_error, r2_score\n",
        "\n",
        "rf_model = RandomForestRegressor(n_estimators=100, random_state=42)\n",
        "rf_model.fit(X_train_scaled, y_train)\n",
        "\n",
        "\n",
        "y_pred_rf = rf_model.predict(X_val_scaled)\n",
        "\n",
        "\n",
        "mse_rf = mean_squared_error(y_val, y_pred_rf)\n",
        "r2_rf = r2_score(y_val, y_pred_rf)\n",
        "\n",
        "print(f\"Random Forest 误差: MSE={mse_rf}, R²={r2_rf}\")\n"
      ],
      "metadata": {
        "id": "HdRoj6w0yQxy"
      },
      "execution_count": null,
      "outputs": []
    },
    {
      "cell_type": "markdown",
      "source": [
        "# Training Vertex AI"
      ],
      "metadata": {
        "id": "aPYWyLRfzfBe"
      }
    },
    {
      "cell_type": "code",
      "source": [
        "from google.cloud import aiplatform\n",
        "\n",
        "\n",
        "aiplatform.init(project=\"GCl_MLB_Hackathon\", location=\"us-central1\")\n",
        "bq_source = \"bq://GCl_MLB_Hackathon.mlb_dataset.mlb_cleaned\"\n",
        "\n",
        "dataset = aiplatform.TabularDataset.create(\n",
        "    display_name=\"mlb-ops-dataset\",\n",
        "    bq_source=bq_source\n",
        ")\n",
        "\n",
        "model = aiplatform.AutoMLTabularTrainingJob(\n",
        "    display_name=\"mlb-ops-model\",\n",
        "    optimization_prediction_type=\"regression\",\n",
        "    optimization_objective=\"minimize-rmse\"\n",
        ")\n",
        "\n",
        "vertex_model = model.run(\n",
        "    dataset=dataset,\n",
        "    target_column=\"ops\",\n",
        "    budget_milli_node_hours=1000\n",
        ")\n",
        "\n",
        "print(f\"Vertex AI: {vertex_model.resource_name}\")\n"
      ],
      "metadata": {
        "id": "5lUYHF_Ny9E9"
      },
      "execution_count": null,
      "outputs": []
    },
    {
      "cell_type": "markdown",
      "source": [
        "## Add More Models"
      ],
      "metadata": {
        "id": "DwRgJSylMs9s"
      }
    },
    {
      "cell_type": "code",
      "source": [
        "from xgboost import XGBRegressor\n",
        "\n",
        "xgb_model = XGBRegressor(n_estimators=500, max_depth=6, learning_rate=0.05, random_state=42)\n",
        "xgb_model.fit(X_train_scaled, y_train)\n",
        "\n",
        "\n",
        "y_pred_xgb = xgb_model.predict(X_val_scaled)\n",
        "\n",
        "mse_xgb = mean_squared_error(y_val, y_pred_xgb)\n",
        "r2_xgb = r2_score(y_val, y_pred_xgb)\n",
        "\n",
        "print(f\"XGBoost MSE={mse_xgb}, R²={r2_xgb}\")\n"
      ],
      "metadata": {
        "id": "rfxGa_ljLgq5"
      },
      "execution_count": null,
      "outputs": []
    },
    {
      "cell_type": "code",
      "source": [
        "import tensorflow as tf\n",
        "from tensorflow import keras\n",
        "from tensorflow.keras import layers\n",
        "\n",
        "model = keras.Sequential([\n",
        "    layers.Dense(128, activation=\"relu\", input_shape=(X_train_scaled.shape[1],)),\n",
        "    layers.Dropout(0.2),\n",
        "    layers.Dense(64, activation=\"relu\"),\n",
        "    layers.Dense(32, activation=\"relu\"),\n",
        "    layers.Dense(1)\n",
        "])\n",
        "\n",
        "\n",
        "model.compile(optimizer=\"adam\", loss=\"mse\", metrics=[\"mae\"])\n",
        "\n",
        "history = model.fit(X_train_scaled, y_train, epochs=50, batch_size=32, validation_data=(X_val_scaled, y_val))\n",
        "\n",
        "\n",
        "y_pred_nn = model.predict(X_val_scaled).flatten()\n",
        "\n",
        "\n",
        "mse_nn = mean_squared_error(y_val, y_pred_nn)\n",
        "r2_nn = r2_score(y_val, y_pred_nn)\n",
        "\n",
        "print(f\"MLP: MSE={mse_nn}, R²={r2_nn}\")\n"
      ],
      "metadata": {
        "id": "7plTkIcgM0wb"
      },
      "execution_count": null,
      "outputs": []
    },
    {
      "cell_type": "markdown",
      "source": [
        "### **Summary of MLB Prospect Prediction Model**\n",
        "\n",
        "#### **Objective**\n",
        "The goal of this project was to predict a baseball prospect’s potential career impact based on historical and current performance data. The dataset consisted of multiple seasons' worth of Major League Baseball (MLB) player statistics, including traditional and advanced metrics.\n",
        "\n",
        "---\n",
        "\n",
        "#### **Data Processing & Feature Engineering**\n",
        "1. **Data Collection & Storage**  \n",
        "   - Fetched MLB player data via an API.\n",
        "   - Saved combined historical and 2024 season data in **Google Cloud Storage (GCS)** as `mlb_all_seasons.csv`.\n",
        "   - Attempted to load the dataset into **Vertex AI** but encountered permission/authentication issues.\n",
        "   - Used **pandas** to preprocess the dataset locally.\n",
        "\n",
        "2. **Feature Engineering**\n",
        "   - Selected relevant features including `gamesPlayed`, `atBats`, `homeRuns`, `strikeOuts`, `ops`, etc.\n",
        "   - Created additional derived metrics such as `BB/K Ratio`, `ISO`, and `BABIP`.\n",
        "   - Standardized numerical features using `StandardScaler`.\n",
        "\n",
        "---\n",
        "\n",
        "#### **Modeling Approach**\n",
        "Three different machine learning models were trained and evaluated:\n",
        "\n",
        "1. **Random Forest Regressor (Baseline Model)**\n",
        "   - `n_estimators=100, random_state=42`\n",
        "   - Provided a **Mean Squared Error (MSE) of ~0.033** with an **R² score of ~0.18**.\n",
        "\n",
        "2. **XGBoost Regressor**\n",
        "   - `learning_rate=0.05, max_depth=6, n_estimators=500`\n",
        "   - Slight improvement over Random Forest but still exhibited relatively low R² scores.\n",
        "\n",
        "3. **Neural Network (MLP)**\n",
        "   - A **Multi-Layer Perceptron (MLP)** with 3 fully connected layers.\n",
        "   - **Trained for 50 epochs** with a batch size of 32.\n",
        "   - Achieved a **MSE of ~0.0331 and R² of ~0.17**, indicating similar performance to tree-based models.\n",
        "\n",
        "---\n",
        "\n",
        "#### **Prediction Results**\n",
        "- After training, the models were used to **predict the OPS for 2024 season players**.\n",
        "- **Final predicted OPS scores were generated for all available players**.\n",
        "- The results were stored in a **pandas DataFrame**, containing:\n",
        "  - `player_name`\n",
        "  - `player_id`\n",
        "  - `season`\n",
        "  - `actual OPS (if available)`\n",
        "  - `predicted OPS`\n",
        "\n",
        "- Example output:\n",
        "  \n",
        "  ```\n",
        "  player_name   player_id  season   ops   predicted_ops\n",
        "  Andrew Abbott  671096    2024    0.741      0.74033\n",
        "  CJ Abrams      682928    2024    0.605      0.60510\n",
        "  Bryan Abreu    650556    2024    0.391      0.38890\n",
        "  José Abreu     547989    2024    0.849      0.84903\n",
        "  ```\n",
        "\n",
        "---\n",
        "\n",
        "#### **Challenges Encountered**\n",
        "1. **Vertex AI Integration Issues**\n",
        "   - Permission errors when creating a dataset on **Google Vertex AI**.\n",
        "   - Authentication issues with **Google Cloud IAM roles and service accounts**.\n",
        "   - Ultimately, local machine learning models were used instead of **AutoML**.\n",
        "\n",
        "2. **Data Processing Issues**\n",
        "   - Missing and `NaN` values in certain key metrics.\n",
        "   - Encountered `infinity` values during `StandardScaler` transformation.\n",
        "   - Addressed by **removing NaN values and imputing missing features**.\n",
        "\n",
        "3. **Model Performance**\n",
        "   - **All models struggled with low R² scores (~0.17–0.18)**, indicating that OPS is a difficult target to predict with the available features.\n",
        "   - Feature selection and additional data sources may be needed for improved predictive accuracy.\n",
        "\n",
        "---\n",
        "\n",
        "#### **Next Steps**\n",
        "- **Improve Model Performance**\n",
        "  - Consider **deep learning architectures** beyond MLP, such as LSTMs or Transformers.\n",
        "  - Introduce **time-series analysis** since player performance changes over seasons.\n",
        "  - Incorporate **player physical metrics (height, weight, injuries, age)**.\n",
        "\n",
        "- **Enhance Data Quality**\n",
        "  - Expand features with **external baseball datasets**.\n",
        "  - Ensure **consistency in season-over-season player tracking**.\n",
        "  - Add **game-specific data** (e.g., home/away performance, opponent strength).\n",
        "\n",
        "- **Optimize Google Cloud Integration**\n",
        "  - Resolve **Vertex AI dataset permissions**.\n",
        "  - Leverage **BigQuery ML** for large-scale processing.\n",
        "  - Deploy a real-time prediction API using **Cloud Functions**.\n",
        "\n",
        "---\n",
        "\n",
        "### **Final Thoughts**\n",
        "While the current models provide a **basic prediction for 2024 OPS**, the results suggest room for improvement. Future iterations should focus on **better feature selection, additional data sources, and improved machine learning models** to enhance accuracy. **Google Cloud services** can be better utilized to scale the solution and deploy real-time inference."
      ],
      "metadata": {
        "id": "iVI2CmAUTQk3"
      }
    },
    {
      "cell_type": "code",
      "source": [],
      "metadata": {
        "id": "Z_eeygHJTWRM"
      },
      "execution_count": null,
      "outputs": []
    }
  ]
}